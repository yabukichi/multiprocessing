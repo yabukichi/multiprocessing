{
  "nbformat": 4,
  "nbformat_minor": 0,
  "metadata": {
    "colab": {
      "name": "multiprocessing_document.ipynb",
      "version": "0.3.2",
      "views": {},
      "default_view": {},
      "provenance": [],
      "collapsed_sections": []
    },
    "kernelspec": {
      "name": "python3",
      "display_name": "Python 3"
    },
    "accelerator": "GPU"
  },
  "cells": [
    {
      "metadata": {
        "id": "pJvBDzzbHpij",
        "colab_type": "code",
        "colab": {
          "autoexec": {
            "startup": false,
            "wait_interval": 0
          }
        }
      },
      "cell_type": "code",
      "source": [
        "import time\n",
        "import numpy as np\n",
        "from PIL import Image\n",
        "from multiprocessing import Pool, Queue, Process\n",
        "import multiprocessing\n"
      ],
      "execution_count": 0,
      "outputs": []
    },
    {
      "metadata": {
        "id": "uWBd08SaOrKo",
        "colab_type": "code",
        "colab": {
          "autoexec": {
            "startup": false,
            "wait_interval": 0
          },
          "base_uri": "https://localhost:8080/",
          "height": 35
        },
        "outputId": "96a34a69-4ebd-4f92-dc5e-ddf1d57a9adb",
        "executionInfo": {
          "status": "ok",
          "timestamp": 1532928908947,
          "user_tz": -540,
          "elapsed": 5453,
          "user": {
            "displayName": "8 x 4",
            "photoUrl": "https://lh3.googleusercontent.com/a/default-user=s128",
            "userId": "118197352509166996121"
          }
        }
      },
      "cell_type": "code",
      "source": [
        "def load_image_list(path):\n",
        "    \"\"\"画像ファイル名のリストを読み込む\"\"\"\n",
        "    with open(path) as f:\n",
        "        lines = [x.strip() for x in f.readlines()]\n",
        "    return np.array(lines)\n",
        "\n",
        "def load_image_data(filename):\n",
        "    \"\"\"画像を読み込む\"\"\"\n",
        "    with Image.open(filename) as img:\n",
        "        image = np.asarray(img.resize((256,256)).convert('RGB'), dtype=np.float32)\n",
        "    return image\n",
        "print (\"complete!\")"
      ],
      "execution_count": 17,
      "outputs": [
        {
          "output_type": "stream",
          "text": [
            "complete!\n"
          ],
          "name": "stdout"
        }
      ]
    },
    {
      "metadata": {
        "id": "hXkMqPUBQicC",
        "colab_type": "code",
        "colab": {
          "autoexec": {
            "startup": false,
            "wait_interval": 0
          }
        }
      },
      "cell_type": "code",
      "source": [
        "import sys\n",
        "import os\n",
        "from urllib import request\n",
        "from PIL import Image\n",
        "\n",
        "def download(url, decode=False):\n",
        "    response = request.urlopen(url)\n",
        "    if response.geturl() == \"https://s.yimg.com/pw/images/en-us/photo_unavailable.png\":\n",
        "        # Flickr :This photo is no longer available iamge.\n",
        "        raise Exception(\"This photo is no longer available iamge.\")\n",
        "\n",
        "    body = response.read()\n",
        "    if decode == True:\n",
        "        body = body.decode()\n",
        "    return body\n",
        "\n",
        "def write(path, img):\n",
        "    file = open(path, 'wb')\n",
        "    file.write(img)\n",
        "    file.close()\n",
        "\n",
        "# see http://image-net.org/archive/words.txt\n",
        "classes = {\"banana\":\"n07753592\",}\n",
        "\n",
        "offset = 0\n",
        "max = 400\n",
        "for dir, id in classes.items():\n",
        "    print(dir)\n",
        "    os.makedirs(dir, exist_ok=True)\n",
        "    urls = download(\"http://www.image-net.org/api/text/imagenet.synset.geturls?wnid=\"+id, decode=True).split()\n",
        "    print(len(urls))\n",
        "    i = 0\n",
        "    for url in urls:\n",
        "        if i < offset:\n",
        "            continue\n",
        "        if i > max:\n",
        "            break\n",
        "\n",
        "        try:\n",
        "            file = os.path.split(url)[1]\n",
        "            path = dir + \"/\" + file\n",
        "            write(path, download(url))\n",
        "            print(\"done:\" + str(i) + \":\" + file)\n",
        "        except:\n",
        "            print(\"Unexpected error:\", sys.exc_info()[0])\n",
        "            print(\"error:\" + str(i) + \":\" + file)\n",
        "        i = i + 1\n",
        "\n",
        "print(\"end\")"
      ],
      "execution_count": 0,
      "outputs": []
    },
    {
      "metadata": {
        "id": "GH5M31j0keOQ",
        "colab_type": "code",
        "colab": {
          "autoexec": {
            "startup": false,
            "wait_interval": 0
          },
          "base_uri": "https://localhost:8080/",
          "height": 73
        },
        "outputId": "7d686f32-c0af-4e67-c1f0-2710b9da974d",
        "executionInfo": {
          "status": "ok",
          "timestamp": 1532929628992,
          "user_tz": -540,
          "elapsed": 5666,
          "user": {
            "displayName": "8 x 4",
            "photoUrl": "https://lh3.googleusercontent.com/a/default-user=s128",
            "userId": "118197352509166996121"
          }
        }
      },
      "cell_type": "code",
      "source": [
        "import os\n",
        "import sys\n",
        "path = \"banana\"\n",
        "fullpath = os.path.abspath(\"\")\n",
        "print(fullpath)\n",
        "groupfiles = os.listdir(path)\n",
        "groupfiles_file = [f for f in groupfiles if os.path.isfile(os.path.join(path, f))]\n",
        "print(groupfiles_file)\n",
        "\n",
        "file = open('group_image.txt', 'w')  #書き込みモードでオープン\n",
        "# file.write(str(applefiles_file))\n",
        "for name in groupfiles_file:\n",
        "  line = fullpath + \"/\" + \"banana\" + \"/\" + name + \" \\r\\n\"\n",
        "  match = line.find('~')\n",
        "  if match == -1:\n",
        "    file.write(line)\n",
        "  else:\n",
        "    print(line)\n",
        "\n",
        "file.close()\n",
        "\n"
      ],
      "execution_count": 20,
      "outputs": [
        {
          "output_type": "stream",
          "text": [
            "/content\n",
            "['523822879_531b8e1d70.jpg', '96284049_cebf3f6b57.jpg', '442259879_ee439c038f.jpg', '303198650_553223db95.jpg', '2667516198_1557cbd544.jpg', '521908372_b68ead597c.jpg', '2358256801_aecf885f42.jpg', '122617591_a83c5a0085.jpg', '152882817_ed95223158.jpg', '432021710_7c56ca7ca6.jpg', '2262889898_0bbf16aea2.jpg', '124230751_acce29dd6a.jpg', '6165276_3560f2f739.jpg', '486808725_598d9bcc42.jpg', '2389205353_55b9ca75df.jpg', '2324978262_06b878ca14.jpg', '513736616_4818eef301.jpg', '861964348_18aa86b713.jpg', '100456789_04d13f8e76.jpg', '43715737_9f593eed54.jpg', '463881470_7e8cef1377.jpg', '387850632_ae3d6f3666.jpg', '2695699902_d46b3cb95f.jpg', '2303274857_5bf7bb3aee.jpg', '6137538_f96852b0a4.jpg', '1795534468_d6f3413675.jpg', '303197952_75395711ca.jpg', '2361956533_ee2e418113.jpg', '416445045_f8178a04a4.jpg', '332480360_3ad165cadc.jpg', '2210931861_7751d14c67.jpg', '2446251119_de5fb32e4c.jpg', '2190415093_e804e8e743.jpg', '1123953342_691976e4c1.jpg', '2150196569_ea592eb4cd.jpg', '2414530728_326951ac05.jpg', '2092428420_608559d81c.jpg', '1917349978_f67160ae2f.jpg', '2362935663_c0412b7e1c.jpg', '402032427_1d4d9c1001.jpg', '2675590158_d12f6241b9.jpg', '214556223_15195e296e.jpg', '2596370886_1fff5a2ecb.jpg', '2262565308_02095e0880.jpg', '303199316_14a366353e.jpg', '1351892001_7e2d707a74.jpg', '394601718_25dd03727d.jpg', '26708162_286a709651.jpg', '2447276524_1fdd2c6dcc.jpg', '84755544_28bc092d3a.jpg', '1334123378_a27c7107d4.jpg', '2207434381_65ba61671b.jpg', '2178122403_13040f0dce.jpg', '2367792315_e7b9205aa4.jpg', '2553634667_b4326db64e.jpg', '2091778938_39027dcf7b.jpg', '2161076238_20ed83c82c.jpg', '80004731_8cf4280add.jpg', '2477875298_5c0a123123.jpg', '2369128893_fa9d33efd8.jpg', '100112639_90fda47766.jpg', '2162147608_fda0c4c0f3.jpg', '2285427799_ee21ffb109.jpg', '2515110326_2efa7c58da.jpg', '2753814842_f5d7da073b.jpg', '79777184_e2ce00930f.jpg', '530243371_d4c0a7a6d7.jpg', '2696310598_5185f66910.jpg', '2330846827_5d80ac471d.jpg', '1223186235_f880dd1da5.jpg', '92344136_e092fd8e17.jpg', '103250262_e07fa0736a.jpg', '303198172_283992a19d.jpg', '763049499_ce6175a02e.jpg', '476939655_e05efc9713.jpg', '24885567_62d94132e3.jpg', '1096924927_b66d7f0599.jpg', '34935574_a6e33a08bd.jpg', '105256407_57f5ec88d2.jpg', '110447626_a4b19bd7b3.jpg', '20856357_b30c7757a8.jpg', '2486683283_368bd28288.jpg', '377334869_56ae1dafd9.jpg', 'fruit.jpg', '308995025_b892665bdc.jpg', '416448734_b1da49b6c9.jpg', '11XEEE0P614522.jpg', '473600616_cd0996a9c5.jpg', '466939988_1399e65849.jpg', '199187081_61665a11eb.jpg', '2440022004_aca7a1ce95.jpg', '2226940722_02d095d386.jpg', '2279972326_3f6ca3d4ae.jpg', '518415293_7713cee716.jpg', '3338420_86dd40a653.jpg', '2218833390_a65aecb019.jpg', '2609026715_b5b4ece163.jpg', '344471258_6b0404dcaa.jpg', '2612103958_20310ded9e.jpg', '886148210_31c50c08d0.jpg', '51647347_b3674e6615.jpg', '2450485480_c6ba657294.jpg', '303199409_70311d7b6f.jpg', '161005506_6e8f99eb2e.jpg', '134887423_89071a248d.jpg', '15813466_8514546c10.jpg', '2220146358_39df40a5f9.jpg', '513899106_ef974db4ed.jpg', '383115889_1f3ee2d7c2.jpg', '311481042_07f4b77ea1.jpg', '1141689636_f5b6ab081e.jpg', '141039690_bc8068807e.jpg', '120917351_430a532bbb.jpg', '97059873_009a153c8f.jpg', '4924368_473984f9df.jpg', '533158967_576cca6126.jpg', '498364890_55a2936d5a.jpg', '272598484_17d5f13c0d.jpg', '369088374_d766648ee0.jpg', '2078299270_1236d7c77b.jpg', '394800059_3cf382a9b3.jpg', '428764767_ab545e08c1.jpg', '2628767077_5c6bb71857.jpg', '2762228747_15d986dca4.jpg', '1547375_474c7298ed.jpg', '1368077972_ca1519e226.jpg', '304885576_f5d5564e1b.jpg', '30981937_29ec93e1cd.jpg', '532421600_9a4f7876ec.jpg', '247045925_689f2fda65.jpg', '501906085_6288f53d6d.jpg', '61665616_fbdf8ab6d3.jpg', '194958201_e48c732cbf.jpg', '443244705_5bcb48c3ca.jpg', '2160276551_c2bec0efa4.jpg', '441204478_524f826885.jpg', '891224785_19e27b9768.jpg', '2569636765_07a08c3677.jpg', '6644148_cf3a291ee1.jpg', '407273217_173a3c9b62.jpg', '380752126_5f6d948198.jpg', '320657225_25e2e9ebc0.jpg', '511923634_1c63bc30f0.jpg', '212833608_e45c7b43bc.jpg', '303338744_02f28939b7.jpg', '377669232_f6e7611b45.jpg', '1625125189_9630efee68.jpg', '447494075_18a4bf90ce.jpg', '2609366754_d044e6ceb2.jpg', '2593315042_f9487fd3f5.jpg', '61214169_aa3d0c595e.jpg', '421817672_39a4af8404.jpg', '179484521_ed1d44ccd1.jpg', '2319993009_ff7e27f171.jpg', '1056123868_3da9256ad3.jpg', '498015589_cc6324c0f8.jpg', '2237151200_5c45faebb1.jpg', '362752426_bd26fa4610.jpg', '2506011555_bbb41691e1.jpg', '166088441_33ee9ccde3.jpg', '2660170729_c05e75494b.jpg', '2223957833_17e82c3533.jpg', '27595466_bce8d84da0.jpg', '11196237_e02ad35f23.jpg', '324914955_c1069226f2.jpg', '165933484_ff8b5229ca.jpg', '377261919_cabd78184d.jpg', '428208043_1d02da9180.jpg', '399517048_1dd03d8922.jpg', '314204158_d267eb8290.jpg', '11579066_36a047d620.jpg', '1800977196_9b7731270c.jpg', '29480080_ac6d6df0bc.jpg', '1771895622_53e5c3ac7a.jpg', '2585120071_016f62231b.jpg', '536898719_ce42a9ea13.jpg', '102700727_94257507c9.jpg', '2717454427_4127311a98.jpg', '435384542_c5dee155a2.jpg', '782254331_6e715240ec.jpg', '166664754_290abad449.jpg', '2547893249_9707951fe2.jpg', '2742403753_7f1a1c194c.jpg', '2285676634_6cdf1d1479.jpg', '2655038590_875c30d781.jpg', '2606953313_2a0ce3a6d3.jpg', '41282650_fbbb6baea6.jpg', '553877295_a44acc02d4.jpg', '2293259947_862fa61ab7.jpg', '415318579_a3147db607.jpg', '2394122918_c783241003.jpg', '181372667_62d4b43901.jpg', '150509769_2b51bebd6b.jpg', '47866470_d0fd2a938f.jpg', '388234953_b01855b37a.jpg', '408840631_1f76eb8194.jpg', '1142663742_22bbe7ba50.jpg', '878522124_13fc1d932b.jpg', '111503498_84e9a1af9d.jpg', '13948278_4f0306ad18.jpg', '167589606_86006face9.jpg', '830162169_f084917430.jpg', '108997168_766685d49e.jpg', '2344656019_a9f5c4b4e3.jpg', '2423237448_d0905c345d.jpg', '1589275342_4567792bfd.jpg', '2462986149_765410c56b.jpg', '2735058221_0683e2e17c.jpg', '830956193_b8972e1e61.jpg', '2300719050_062e9a8d79.jpg', '47368859_dace3f0a0d.jpg', '257430310_472c28f92f.jpg', '498649667_b9156478e0.jpg', '227658514_d5a0d2b8ef.jpg', '20302551_2d15681555.jpg', '920198884_5ab997d6d4.jpg', '36104505_fbcdec4fd0.jpg', '2088475437_d7db1a771f.jpg', '2388961539_394a062c42.jpg', '2331800249_67862abfb7.jpg', '1518687405_dd68955fc0.jpg', '1423702320_794873c0d1.jpg', '475727531_1539b862cc.jpg', '902428778_f631ad5b56.jpg', '2668361549_4877281e05.jpg', '449401095_f912b3b96d.jpg', '199883202_072c788282.jpg', '2395956663_81336aa2ac.jpg', '266116450_eed79cb6a0.jpg', '78417634_2442264a0d.jpg', '47968324_53b798ce0f.jpg', '2255384815_6e75674af7.jpg', '672083416_2094f6fa3d.jpg', '2441536983_53c9746d45.jpg', '820991078_533226cfb8.jpg', '295612111_189677166d.jpg', '1927267237_3160990d57.jpg', '2321293648_315ff6917d.jpg', '2040577808_5a679c1e4c.jpg', '2567969976_4c30ffe6dc.jpg', '2717614917_fe531dfc53.jpg', '247317807_07c89abbc2.jpg', '2341511880_334ebf76f8.jpg', '81482940_98fb21960c.jpg', '2702080980_21f0884d4d.jpg', '113641446_cece4e2278.jpg', '2633836807_c27777d532.jpg', '67485060_673dc47824.jpg', '2214578339_e8ab72607d.jpg', '285008702_e85dbe70b3.jpg', '313153444_da7f7f130a.jpg', '2271007289_f7b36f378f.jpg', '316675682_ad82cc39a7.jpg', '273641420_72d766a62f.jpg', '280831435_2b3f696d99.jpg', '681567437_e2c7a9368a.jpg', '6137515_c11e0de3ce.jpg', '1698781201_375ef5f87f.jpg', '433782877_30805f681b.jpg', '238779201_72a37b89c6.jpg', '2660771718_04efa25c25.jpg', '2229076735_31e496c2a2.jpg', '1794693649_355b99d7d7.jpg', '2628235508_7d389fb69a.jpg', '109215698_e3f17b6536.jpg', '2340664812_378967b7ba.jpg', '2684425990_00568ddf4c.jpg', '2228203888_f08e5cc4d4.jpg', '458350260_cbf761dba7.jpg', '236382295_d588d24d5b.jpg', '128380235_50608c2465.jpg', '120289721_5dfae3adb2.jpg', '308746539_f53b93cfce.jpg', '2289446253_86953d69e8.jpg', '1939138991_4b398b4c0f.jpg', '2329915206_714f85af4f.jpg', '5426378_aa28bec075.jpg', '2693149302_e0b1b92c0f.jpg', '178397199_225fc7d5af.jpg', '362910674_881449ea91.jpg', '639317660_4b417f9beb.jpg', '56548636_464b98c693.jpg', '26266129_adabae2ebf.jpg', '463748661_0b28830e91.jpg', '2035938390_89ddf7a38f.jpg', '7C532772EBC4461FD43D1EEBC7D9D97C.jpg', '2655229249_e1c07b9dd1.jpg', '376292817_a0edcb7579.jpg', '2509370216_7d415d4f71.jpg', '305718591_3fc555921a.jpg', '2633698331_265dc0a24b.jpg', '1634004906_ee54328695.jpg', '1328670315_56d4d39c2e.jpg', '95919968_f493cd928d.jpg', '145378364_60a8c005ba.jpg', '2236213155_727a1006e2.jpg', '1471871932_1ed6b81505.jpg', '2394964594_619ac38893.jpg', '2710606680_6b5f5394d4.jpg', '2594105954_4ceec16d65.jpg', '504630398_48f20e6067.jpg', '2567235149_8435a5b8f0.jpg', '2207640193_0d67120ec8.jpg', '2357730684_a04c6ed54c.jpg', '16573624_1be2784462.jpg', '188716822_81ab203e21.jpg', '166452162_9da32c4dd0.jpg', '2021527428_abb2a90aeb.jpg', '516022828_0456e9c0af.jpg', '2089552835_965fe1ec83.jpg', '2500335151_9d83388626.jpg', '10250940_14b2bbc4cf.jpg', '2502275289_1cf17fdf49.jpg', '52401280_198229cf8b.jpg', '421857550_3bf6ddb4b3.jpg', '314857786_2d49f181fd.jpg', '4040908_461478d777.jpg', '577245148_8acd82ff36.jpg', '397282735_44028bbef8.jpg', '2443742845_e6a358de9a.jpg', '186180773_18ac5deaf8.jpg', '2565635653_1491c26176.jpg', '2498064241_5ffb186678.jpg', '238622266_7db1c4c0bd.jpg', '2395954775_ac6ed8ece4.jpg', '390113492_7ca1d6d541.jpg', '190543363_22bfbd2b17.jpg', '119849698_fb92316278.jpg', '2427679798_4e7c45e2d9.jpg', '232689856_9ecf2f4336.jpg', '2365917592_1cb95411be.jpg', '268159400_2e2f10b41c.jpg', '2349237743_fb871eb65e.jpg', '314205060_0d40ab585a.jpg', '1106205294_dbe22d9450.jpg', '5790366_bd5cc471c4.jpg', '2149849577_79a6e26c82.jpg', '280462036_2a0ba84232.jpg', '33548987_49440c6c79.jpg', '2064414518_a27ff71fc8.jpg', '483922087_e9ad4be1a9.jpg', '1419151832_ceaf3752ef.jpg', '12393503_0bd06ace55.jpg', '2681331629_d22575b156.jpg', '334268415_65e20c0eeb.jpg', '2216119336_41546ca47c.jpg', '32477739_265af3a8b0.jpg', '2741560047_8792872a8c.jpg', '2202754321_8166950421.jpg', '2635545755_a81bd6299c.jpg', '327759490_b3fa30725a.jpg', '13704110_c622d610a6.jpg', '381750186_5dbfb658a3.jpg', '2211289994_a8b6b8ef1f.jpg', '1315010005_c070d4bd97.jpg', '303198996_09142b8a11.jpg', '2510773883_4023c163e9.jpg', '1377057489_41104bfe9b.jpg', '1702280744_8d9fae75ee.jpg', '1468838449_a6c155c233.jpg', '123238686_710ec65bcf.jpg', '473552881_1ef3434726.jpg', '15106703_ce6106c84c.jpg', '717401149_2996250fef.jpg', '104543109_68e9b2e37e.jpg', '123460495_ed7532c980.jpg', '390344634_b32960bff4.jpg', '2520793581_dca23ccfb6.jpg', '413851672_c6a0945a6f.jpg', '770630982_e30fb7d112.jpg', '2241924265_834dc2fb10.jpg', '2465716628_5ff0fc33bf.jpg', '2128682301_84126699ac.jpg', '118570570_04f5863102.jpg', '2749107374_618ec69318.jpg', '1138816662_09e51ae3bf.jpg', '1854224140_631dbf5123.jpg', '438430819_394a4dff8c.jpg', '2628778661_843d2602d2.jpg', '140099056_6e119c4fa2.jpg', '135516450_01875b99ae.jpg', '45860873_34b63b9447.jpg', '111707964_14d4ceaf1f.jpg', '2575300703_0ea40a4592.jpg', '2166035741_a369088062.jpg', '2679896265_f81653f010.jpg', '486303110_9c41c6c489.jpg', '2435211499_e67fe7d510.jpg', '553933945_8faac0450b.jpg', '590252920_e9c4bb8756.jpg', '2664826153_ec7b1f5832.jpg', '2292750094_ee0d810d15.jpg', '376292811_39edd940fa.jpg', '427132264_c24653f084.jpg', '2235424193_c8c92c049e.jpg', '2393570268_d3307cef7e.jpg', '2620351325_dea17a3c81.jpg', 'ripeBananas.jpg', '292925446_a736cf7fb6.jpg', '421190162_bcec32cfe4.jpg', '2718951023_d385035eb7.jpg', '2220095009_704c9dc4da.jpg', '2076244770_9957fdfdfb.jpg', '402103917_7050583147.jpg', '377654396_b783d7613e.jpg', '435212920_4b3c16b0cb.jpg', '493374678_d063158c24.jpg', '277702162_921ec0b18c.jpg', '3554646_39181cac5b.jpg', '2554456796_7535dc83f3.jpg', '2762136360_4c78cb784e.jpg', '2476562469_8bfd45e82b.jpg', '514475715_754e2e9012.jpg', '314205248_1a92a5baf6.jpg', '2238604286_616a2e4ce8.jpg', '2418616388_637b7577ba.jpg', '253864806_34e75212cc.jpg', '1393736059_56eec30f96.jpg', '1420792976_c694c6cfc1.jpg', '2358827090_935c840b23.jpg', '223547374_6ea41d6c25.jpg', '2565604134_1e9bdb531a.jpg', '123683030_314951f58a.jpg', '2672834830_6c9ba345d2.jpg', '1959353917_8db491950f.jpg', '2695093015_abb97dcce0.jpg', '319927487_a498a1b46e.jpg', '353531543_72f8a94c61.jpg', '1412877735_c37fe75935.jpg', '2227410743_babbf032d8.jpg', '430245394_725dd02119.jpg', '89853633_eaece935a5.jpg', '76775159_3f3548cf00.jpg', '252046459_c1ab96ab2a.jpg', '2502375684_7705ccfd17.jpg', '2365518950_e2ca42d4a7.jpg', '118570574_4d99be7f82.jpg', '2527878297_1c24a2c950.jpg', '139316010_9a30abcf9b.jpg', '2741750822_72aface40e.jpg', '2046764685_312d2a577e.jpg', '2680582243_6a920de9ac.jpg', '474016907_c19bc29e46.jpg', '1342545858_1cf8b7cdfe.jpg', '1617602176_bad69cda53.jpg', '133762172_53e2344daf.jpg', '1075262538_c3ea1eaec4.jpg', '89321110_b58b7af936.jpg', '95516793_479bcfece8.jpg', '437440386_198e968d5d.jpg', '1392668082_0e504e888e.jpg', '146208857_5848e500aa.jpg', '2095735397_4c3eeafbaa.jpg', '10968775_8910a55370.jpg', '2377573821_6481ef3764.jpg', '2147085562_cbfb9e6c5e.jpg', '499189410_7dfb67ca6b.jpg', '64530202_b987dd6aea.jpg', '43986492_2c8f79b463.jpg', '2234748476_0ab7e85861.jpg', '2381874757_20e53c66bc.jpg', '925720160_7005c05f7d.jpg', '2713479259_f07dd5d66f.jpg', '435566480_37d98a1305.jpg', '1706523592_bffe9a9825.jpg', '179423859_30afb67695.jpg', '308990898_184fd675ee.jpg', '2189608537_a7065b1eb3.jpg', '24860793_d96b68d0a6.jpg', '162914428_f0bce14d20.jpg', '2343262166_8d42bc5362.jpg', '61621701_fdad0529ee.jpg', '384405350_6107b18309.jpg', '306573505_9f253f9d6b.jpg', '2386168800_4739de40bb.jpg', '2237592007_b4ab1b729d.jpg', '24860794_6b056c5081.jpg', '60078585_defe024beb.jpg', '510020673_bfb17d2928.jpg', '2151709993_b1c12774c2.jpg', '2746671950_b19a28b9b4.jpg', '537712115_9d2d7ebb1d.jpg', '85458980_a08cd84352.jpg', '64099662_e7b10420fc.jpg', '514969461_17be20b148.jpg', '2233870906_f4bdfa7ed6.jpg', '2419656748_98bb772640.jpg', '2250278791_41c2f9b8d4.jpg', '2153786040_f259dd36e4.jpg', '2629134835_9134eee0c8.jpg', '502151920_c6ff06d1e6.jpg', '2338566132_31ee01696a.jpg', '392039399_62f6e1397e.jpg', '2426203578_ebd1d1065c.jpg', '415761200_e43fe4caa0.jpg', '2613943660_87850de841.jpg', '514975581_ed47b69f13.jpg', '1333679591_799a0da347.jpg', '367217896_6ca9439950.jpg', '891224331_b0215983cd.jpg', '638463717_cfab631f9a.jpg', '1795534826_cff030a108.jpg', '25743649_0d33625463.jpg', '2221927183_78a425a39b.jpg', '3785832_5772beeacc.jpg', '1875265242_c4b5b7d3d6.jpg', '2208502496_fea1b04d4e.jpg', '2249779436_449fd1bd1a.jpg', '2125364298_bcc1441192.jpg', '59148555_f83131b56e.jpg', '351748566_ae8c847fbf.jpg', '1308660127_4d7d10da01.jpg', '138432407_8cd91eefc2.jpg', '2438699125_e1bc0214de.jpg', '29604266_fa531d3eea.jpg', '86268125_ca96be0339.jpg', '2061140628_71d7ec2e3c.jpg', '2511358254_522fb97fa7.jpg', '86211286_cca4beef3d.jpg', '2576218128_539fd45ced.jpg', '897919757_58a05b2930.jpg', '2631633990_d2c2d28ae1.jpg', '745576255_e879317ad4.jpg', '2606977545_f2c1c9aa94.jpg', '1096942299_07606079bf.jpg', '2078414573_d311acc5c3.jpg', '1427398028_290cd5bf1e.jpg', '680550844_a207131770.jpg', '902616198_92699a67e9.jpg', '460847158_8bb1662261.jpg', '2039819701_69e38afeaf.jpg', '1289188729_3cbc2bbcd3.jpg', '384115304_9a60216cfa.jpg', '360787145_115164ee12.jpg', '261902423_a495043889.jpg', '99062516_986deb7217.jpg', '2672080949_c2b0426cbc.jpg', '39168556_2b7e6b1805.jpg', '526253532_44c1fea74b.jpg', '398129748_04b13bdacf.jpg', '121083506_5c3f67c366.jpg', '316079936_527577064d.jpg', '1062735058_d8d2c7d752.jpg', '101206060_8002bb0c2d.jpg', '2627103121_ab8847ae82.jpg', '1841187313_e21dd5416e.jpg', '2095697586_c7cbdac937.jpg', '411249948_4dfa20f538.jpg', '2499534520_d7cd195fb1.jpg', '1683350562_32fc15e762.jpg', '2041331476_75bae37934.jpg', '2442000459_e1b64747a0.jpg', '1423411921_37d4a6856b.jpg', '446609662_0abe9bcae1.jpg', '2209101982_eb9e12606e.jpg', '52144922_2cc3b83e85.jpg', '500935603_4fdefef762.jpg', '2721917032_274c24a0bc.jpg', '1123136263_82823a3b9a.jpg', '2418883160_78925bf4b8.jpg', '154369786_929322121f.jpg', '2690198449_0e36e2ab04.jpg', '2727055434_bab3fcbdbc.jpg', '371358706_7da3bea390.jpg', '2467462862_404db90b3b.jpg', '508863095_e72ec645ce.jpg', '2040612766_ac0f1efd92.jpg', '1429658338_3dff0d6678.jpg', '18217540_303047989f.jpg', '2532704246_92cbcb2867.jpg', '2088777857_de7244fc85.jpg', '84359989_0a45f1d1a5.jpg', '2312935166_ec0ca8a6d4.jpg', '261420193_ce32b6978f.jpg', '24045413_de1553b315.jpg', '940635_64f506feb3.jpg', '42791884_ca1af486b6.jpg', '508978062_82c8d45b60.jpg', '8933344_e8505f2dba.jpg', '2365403374_09a829d1a2.jpg', '150908433_d8760074bf.jpg', '469003156_0a1cd7de89.jpg', '1223880549_2a04af38c0.jpg', '452072686_7aabb4168b.jpg', '2042426462_87b3c6e92a.jpg', '371355529_ec833dad38.jpg', '439510854_e3b0680229.jpg', '303197320_9f31e3244a.jpg', '2265629197_96edb95ae8.jpg', '364911409_053f118d9f.jpg', '2292114030_81f92ce6e9.jpg', '300074722_990dd8abed.jpg', '2702030021_46fcde479a.jpg', '46088654_886dfe8331.jpg', '592985773_27172d28a9.jpg', '2039783703_44fb78b087.jpg', '2775468190_464419bb48.jpg', '1482748276_0e49f4318e.jpg', '2776852701_0341d95691.jpg', '2673196041_21b48b6b92.jpg', '413585553_2b2e028ba2.jpg', '2273737167_d5b8f8c10d.jpg', '12379115_54be237b64.jpg', '147597414_3cbaf56a04.jpg', '786988629_99ad5ed0ab.jpg', '512106275_8cc7dd6e1c.jpg', '1383942270_961bdc40cd.jpg', '331118839_c6fcbeeadb.jpg', '1517018753_2e145b51bd.jpg', '96284048_7c154f9007.jpg', '2680785832_556c175f99.jpg', '2253949951_f584908106.jpg', '219992999_5193f62781.jpg', '60373209_a3eb99c20b.jpg', '2402185837_1253d7738a.jpg', '138633321_c71eae52fa.jpg', '318830319_a0f346389d.jpg', '536817509_891b3c5e41.jpg', '145385252_da35f391ec.jpg', '2191989261_8d648d9a91.jpg', '188966635_6ea68fd22a.jpg', '511047692_38b38ddb25.jpg', '2611118655_01b98e8d1b.jpg', '227661179_5436f2ade8.jpg', '131121397_9f64759a22.jpg', '378879478_32c8ba6d06.jpg', '280980644_da262efe24.jpg', '1864625931_128ed8ba9d.jpg', '2442365472_6544e9de24.jpg', '1304414124_1abca1c257.jpg', '398707709_9cda092500.jpg', '2734461862_7bc595004f.jpg', '1397467355_24c4fcb6f2.jpg', '2766652319_354a98ffce.jpg', '131664417_c2dc87e257.jpg', '382483523_c8f0c59abd.jpg', '118570578_2154cd860a.jpg', '1005851110_a1a9533414.jpg', '353330617_b783b16ba0.jpg', '26131823_042cfe4b4f.jpg', '2725140695_9497ee02a4.jpg', '1020368545_06aee19113.jpg', '1874426713_191a400592.jpg', '2707114907_dd36ae9aba.jpg', '1367977822_0d8af9d324.jpg', '679889703_e5bd9d57b0.jpg', '2307843714_62e7a380a8.jpg', '310819539_77e5f21099.jpg', '60373212_e80833da20.jpg', '2757320318_98264b788f.jpg', '367481160_a0d6cdf933.jpg', '1481099290_cf1c1986c6.jpg', '2396817129_f047eff344.jpg', '2546048314_4476cd9feb.jpg', '2440748137_a569130ea4.jpg', '1997464921_3cc0a74213.jpg', '457539264_634ea55a47.jpg', '497866713_25052351d9.jpg', '1291765658_b3e18afa6d.jpg', '2188024629_3843252acc.jpg', '512725477_b2873cec86.jpg', '85440876_8bd5d345ac.jpg', '1783149459_99c3d4a448.jpg', '320657093_c41d324449.jpg', '2715422532_655022e1b9.jpg', '2630429195_55495b83f7.jpg', '2290245162_7a732b0e43.jpg', '2300012874_b846e5f28c.jpg', '2058044790_cdbd692f8c.jpg', '2311422347_f403ecf344.jpg', '41516861_5d676879a4.jpg', '2080883692_3a6a41fd49.jpg', '1408954677_f83a033d6c.jpg', '2216217835_a52a664f35.jpg', '2613855064_549e045c92.jpg', '448980569_3559435a27.jpg', '2656618308_439068dae2.jpg', '351126327_ee2a027f0d.jpg', '587012250_d6cea3cebf.jpg', '2500891541_1fdd8f4964.jpg', '466921267_39330cef15.jpg', '65083821_ae01d10586.jpg', '2336716311_d5b38b6284.jpg', '100688507_79517b8740.jpg', '2195755096_b50c6d0ba6.jpg', '2472854851_563b74a7ce.jpg', '2094924947_f0831eb900.jpg', '2294934045_0ce936e0fe.jpg', '152736693_1b2eaa6cec.jpg', '131977408_6bd1fd25ec.jpg', '303198054_71528cd291.jpg', '463882771_072e6fd9bf.jpg', '1956207867_4efa7bf9c1.jpg', '1453188176_18a3c04532.jpg', '2736345320_2393032817.jpg', '2429239267_2d4b1d1d40.jpg', '1605103048_e7fb4ccaa8.jpg', '938748705_07b8785c55.jpg', '2613947656_bae667db46.jpg', '1003499219_c321147242.jpg', '110344005_5f2fbb2d37.jpg', '5619722_b847fb22e3.jpg', '2236136095_641b9da91c.jpg', '149346554_357a355d62.jpg', '69822981_9f9d4d2ffc.jpg', '2124561485_dd514069b9.jpg', '2596673013_65128febb9.jpg', '480728359_3266dcd319.jpg', '2567972436_c12b8f5670.jpg', 'banana.jpg', '1181454758_a231f27b47.jpg', '2675998934_8a74f15c80.jpg', '46490159_3db8b2b53f.jpg', '303198899_c434d19fab.jpg', '646532264_9dc00eacb0.jpg', '2677734555_1f96f51e7f.jpg', '2715587215_a9db1a98e5.jpg', '1251345843_dbf56d1424.jpg', '2534349438_28d9a7f0d5.jpg', '222577275_03664655d3.jpg', '303197833_f174b729e1.jpg', '306415029_f85784b0cd.jpg', '47927881_8c1d1c5676.jpg', '2316463108_09c5e20ab1.jpg', '7095051_b43812164c.jpg', '891225247_1e108ebaf5.jpg', '2453382195_fb3efee9c1.jpg', '2215235776_f64bfa1d24.jpg', '1492164805_91ed77e379.jpg', '2411590997_dbb7767b18.jpg', '5756921_669108ee52.jpg', '149764572_e34b6b7642.jpg', '1587266283_2e47cd507e.jpg', '2508356263_d10f8b5c67.jpg', '626629815_9cc6c4c40f.jpg', '2216222073_5bb099baf2.jpg', '63122521_147d25165b.jpg', '224959806_20c1199ff9.jpg', '1133548492_b0984214d0.jpg', '2189174710_26ea33aaa2.jpg', '2257047103_074d1fc03f.jpg', '2554697173_ebecb24504.jpg', '29694679_545ba1bec7.jpg', '1423296651_632cc985c6.jpg', '1248380520_8c395854e0.jpg', '2411068483_3d2d45c3a6.jpg', '151603097_2b653b7080.jpg', '2571318303_5ff37fea9b.jpg', '209924940_1ac47f7527.jpg', '139122522_c4ba5cf91a.jpg', '132543642_51799f6000.jpg', '2247480202_44a73ec499.jpg', '2110622994_7d4e380392.jpg', '15681881_8ef9c76147.jpg', '4620493_05978e0b3e.jpg', '2658801695_a7128c5173.jpg', '2663075724_dcc10c8e10.jpg', '788723192_6e4774efb3.jpg', '414726827_acaa68046d.jpg', '2405105607_ac95f5023b.jpg', '288315906_02a6a61c6c.jpg', '1399556038_716a4754f6.jpg', 'banaan.jpg', '2315431121_6bf4b2e4e5.jpg', '57738598_6b19102480.jpg', '2393085431_f25ae75305.jpg', '2299216471_c78fa7a8e9.jpg', '512104821_efd9ea2c4a.jpg', '1585427428_8c2307d296.jpg', '522817410_2e3fbf996e.jpg', '967301667_fe93a6931e.jpg', '403401021_9fe5236670.jpg', '131745856_93f67c9f41.jpg', '2182759947_c5a81e8482.jpg', '2770459795_ac803e48ed.jpg', '77328415_3250675c0b.jpg', '474413454_7207fd14ef.jpg', '2249137078_82af81bb4e.jpg', '462151891_57f09f8423.jpg', '134859108_9fae498e24.jpg', '15681888_f43ef7c5b5.jpg', '2552970062_be4ef1f7c5.jpg', '2472333505_a11b0ddb9e.jpg', '416445043_c94331d19d.jpg', '2349603063_1849b4b7fd.jpg', '10260099_5da5e1b035.jpg', '2563294135_7c544b50dc.jpg', '303198437_7bfdaf05fa.jpg', '2589348410_119080b841.jpg', '104669470_4c537728a5.jpg', '2689135864_b27f964f5d.jpg', '2173031239_3f874fc934.jpg', '2510389565_10889e4e9d.jpg', '1993401314_16f87bc4e8.jpg', '1454514696_0ca2a3c8c6.jpg', '2438750118_8c26f50c64.jpg', '1166729306_5ea4b5644b.jpg', '34252665_107e9ca40d.jpg', '596057397_c02bb4ca04.jpg', '19456670_ef21aec031.jpg', '121675310_0dd3c6aa6e.jpg', '2606052434_142d2f9b1b.jpg', '2756901454_58397aae2e.jpg', '389268233_3b39742d28.jpg', '2711614912_bda9df92ce.jpg', '480432673_860ac6f69f.jpg', '494632555_0e2f44ba97.jpg', '48508411_54a9de000b.jpg', '533549596_96923382fd.jpg', '2313280474_2ebdba2d26.jpg', '1453646211_65c3b22e25.jpg', '2161142704_1b7e7aa448.jpg', '2730551903_5d9065bb46.jpg', '35300847_bb96d703b3.jpg', '139941532_ec57e82a61.jpg', '67353254_d1ead1b31c.jpg', '988920775_d133d119f0.jpg', '62554960_7b3b4276f0.jpg', '355380813_68e725ca19.jpg', '2393836927_c4698c56d6.jpg', '145378363_0167699a29.jpg', '29662828_8d2d24094b.jpg', '423732780_d6203ce7be.jpg', '2224353848_d148c2d85b.jpg', '52644032_cfe04b0e93.jpg', '106769141_441d7b9b74.jpg', '44061771_5f84fbfce6.jpg', '100412966_9a63f65c23.jpg', '354990143_e2dadaff20.jpg', '1916296799_35756c45d9.jpg', '2212355565_72027d2860.jpg', '351126382_eb29f38e35.jpg', '358583729_602a6988e1.jpg', '32062631_2ba5ea50a9.jpg', '2339146476_d9d7c3c270.jpg', '2613020867_f485264525.jpg', '1419167025_f77a058d8a.jpg', '111574828_c8b8be2e2e.jpg', '1274351453_870429bb8e.jpg', '348047172_d79bea65e0.jpg', '104772915_1b180d55e9.jpg', '205012307_cec0092e98.jpg', '378228177_b01264820f.jpg', '149414479_4bc4523374.jpg', '1874477833_0d5e0893e8.jpg', '2626826269_86466fc02a.jpg', '1353461333_4a94b88d05.jpg', '398435580_3d855140ee.jpg', '141358409_1470156eca.jpg', '835520702_0c0c31f05b.jpg', '1596994953_6b74473d52.jpg', '193360355_29492d4048.jpg', '430288433_19d9d11f78.jpg', '2258966136_320fff8644.jpg', '511548889_368d2eeffc.jpg', '192084271_5991cb2bc3.jpg', '2385172570_5d460bd045.jpg', '1329929690_501253e257.jpg', '1422124918_97c0370cf4.jpg', '445070663_bc91df6426.jpg', '1338034571_fd595a35ea.jpg', '2227411101_8e48fe284b.jpg', '167968742_df0fc9fb19.jpg', '360818473_5eb83c9e2c.jpg', '2343583590_53e9d1a56f.jpg', '1096982531_b77e0a12a6.jpg', '2316265623_bf7bfbdafc.jpg', '2386253737_7cefeddbae.jpg', '2126231278_282a7db173.jpg', '2497226286_ac10e9aa6a.jpg', '64099666_558f360ecd.jpg', '378378888_47b497b9f7.jpg', '2307863709_f6abd61bca.jpg', '2465037989_1f72b1b408.jpg', '489762198_956151f175.jpg', '321679575_de0dafdeb4.jpg', '2150196577_35c16dba72.jpg', '1453646837_4f04949a64.jpg', '331201698_5bae54f2a2.jpg', '2095697714_d2b740caa1.jpg', '2237734406_7ed756d8b0.jpg', '8779919_267a20f794.jpg', '85285196_18fd046962.jpg', '543896562_9921f5426c.jpg', '452633488_50216ddfe0.jpg', '4572616_2ab77a45ea.jpg', '2615585224_df56f349ca.jpg', '139294750_45e5b37823.jpg', '284705964_e1659e6192.jpg', '2334856033_84380e4625.jpg', '147657767_1bc02d79ea.jpg', '2414129535_530b866f95.jpg', '2513933096_e4559a0de7.jpg', '1162965864_a8116836f7.jpg', '1130340582_855982b945.jpg', '108639286_6f3cbd7617.jpg', '2408159284_73125aabdd.jpg', '103414857_b347a7320b.jpg', '1544063360_7ec3529266.jpg', '672769232_474519761b.jpg', '2329671883_b845f18680.jpg', '12586385_c29c043b91.jpg', '1138012663_13c7cf146f.jpg', '838228898_f4da944266.jpg', '126516638_0fa34f783e.jpg', '427235613_cfd257718d.jpg', '2509025488_d9de399b77.jpg', '2165150807_8ed39ab571.jpg', '2728190098_283470d382.jpg', '2425468481_3be18a5198.jpg', '36464372_d90738d847.jpg', '2085151364_696702b66c.jpg', '46088810_d1446fc59b.jpg', '1601888237_e665dc3160.jpg', '2553014759_d21c7aaf63.jpg', '1186928251_03b57182f6.jpg', '449795801_64c4fda486.jpg', '2294879800_9226215fce.jpg', '335459737_7493c1426d.jpg', '2742927015_31e22dced3.jpg', '5756922_ed6c0f255c.jpg', '453627871_eaad400d81.jpg', '1374265810_8cac849063.jpg', '2379144300_7d3a96b21b.jpg', '378718038_fb7767cfa4.jpg', '2592515119_0267566a86.jpg', '1208785944_1e016036ba.jpg', '2759250756_0b225aa833.jpg', '224542167_f43cdeb469.jpg', '2203070000_344af118df.jpg', '278434296_b021e6dbc0.jpg', '1021278863_8cd18291ac.jpg', '2390255627_0bb3bc5edf.jpg', '2452737741_d80a180126.jpg', '57898967_e21254b20a.jpg', '1592452_6b9b59b0a4.jpg', '200032355_f7c9f131e0.jpg', '2241827545_a4e6f408d7.jpg', '2219272721_c59b18a42d.jpg', '2614849534_b653dd0cc0.jpg', '2055734309_c1534d088b.jpg', '126682262_ba253e71f4.jpg', '399303221_654cf153ec.jpg', '1794545487_4d6f8d84f2.jpg', '450792752_f2f56f7454.jpg', '966770904_676b852706.jpg', '1346009139_f58275ca59.jpg', '376939926_04c6147d3f.jpg', '688667752_5fbbefaeaf.jpg', '2390569088_de850cce72.jpg', '2228203234_fefec2214f.jpg', '2275430754_66a24e71ca.jpg', '87209200_91e69694e7.jpg', '1802766925_67123d7da6.jpg', '184079101_0e69659449.jpg', '84748765_3cd8a1459e.jpg', '3584182_2fbb681c8a.jpg', '381790157_836c41d633.jpg', '48508410_c195c9772c.jpg', '256490774_820c56c729.jpg', '1587871996_671f54c7bc.jpg', '205728746_fb0784bceb.jpg', '1004628903_fc21a10cc7.jpg', '2085394733_0f3bd7a833.jpg', '325387525_dfe757719f.jpg', '2061436937_c4760dfdcb.jpg', '141910944_f1e4619a12.jpg', '168340683_ba668a41a8.jpg', '15681878_ecea8241c2.jpg', '1382940968_fbd01f132e.jpg', '263744959_9ed24d4f3b.jpg', '2138540032_30e0290f44.jpg', '2183384454_3d4b192bed.jpg', '830583985_afa4edde25.jpg', '2190835559_8ebfdf1858.jpg', '2403012738_90f71e5296.jpg', '4541792_0301d0ee33.jpg', '509318323_108aec7ff0.jpg', '2472756166_17b83fee42.jpg', '2193164715_20e3637685.jpg', '127203069_a704b38472.jpg', '1087516963_dacc803515.jpg', '2667469666_745894d8d6.jpg', '242102818_07b3dcd770.jpg', '2119261737_f161c82d8c.jpg', '474383397_8893c8b65b.jpg', '508978078_016567d1e8.jpg', '581999014_665e40da96.jpg', '219957029_3e058731b6.jpg', '287490987_d8edeca8c4.jpg', '101746634_3239fc12e2.jpg', '2121016297_e98241d409.jpg', '213943364_c3daf1c2ed.jpg', '2514300783_0c74ef37fe.jpg', '327511464_3aa1c8d23a.jpg', '92899115_dce8062257.jpg', '2540211101_2ee9b45601.jpg', '475311414_61433a371f.jpg', '102734365_33dcaa5cc7.jpg', '156661973_9e9582a190.jpg', '407187434_2bfb36daa8.jpg', '147934725_dd0519e9c2.jpg', '189328664_1dbbb86b59.jpg', '2210481901_cd24a41d28.jpg', '195342532_3d0488d1bc.jpg', '100809056_7d95315297.jpg', '2689418743_fcc2834b17.jpg', '774798360_3dfb765aec.jpg', '432709303_501c9d97ff.jpg', '840851556_60c30e0b97.jpg', '2308444461_8bace0a044.jpg', '2088046125_289555eebe.jpg', '437397384_36deb8c108.jpg', '2313280792_6555efa318.jpg', '127137515_66b1836dee.jpg', '2076258719_c7a0aade8f.jpg', '2650902402_df272f2af8.jpg', '71483714_d8fe2cc0bd.jpg', '539750681_3c608a03db.jpg', '71619423_f26ab87d73.jpg', '2228204458_15238814cb.jpg', '2653263661_54bb1bca44.jpg', '7314054_a0fed6699d.jpg', '490518232_8121b5bea6.jpg', '2340992827_5aa5dfe792.jpg', '2515122340_87fea12df9.jpg', '21328314_32245d022e.jpg', '2633391018_c1efd1c165.jpg', '2299415744_ca6c2590ec.jpg', '1317007880_c3ed464a0a.jpg', '1133548060_05f9a8a2fc.jpg', '1805264708_0c9137982a.jpg', '2635545453_9832e9aeed.jpg', '167182397_aaed655519.jpg', '367422583_76c74a6f78.jpg', '2075890097_872624d984.jpg', '97597737_5a40c4d94f.jpg', '2430868741_a208463792.jpg', '2332525361_417d1a638a.jpg', '1328386097_c10fe3597d.jpg', '8210067_f8507d3e62.jpg', '384556293_fc1c7d96cc.jpg', '330641865_04c503c7f8.jpg', '2514146521_86cb67e9a0.jpg', '9838510_aff0652530.jpg', '383789347_5f35459b6e.jpg', '2631823829_96ec31033a.jpg', '308998706_1f3050c44d.jpg', '2117794205_b40ab98a2d.jpg', '89711794_d500a8c172.jpg', '434570102_4f4ebf6c92.jpg', '452670610_8a06b471ed.jpg', '882626892_e2bc3df963.jpg', '225065284_d498f9a4cf.jpg', '153683378_274cc02f6d.jpg', '2630713009_9f5a0c31a2.jpg', '110697348_0697262517.jpg', '208666566_55f072e7bd.jpg', '447222492_c212cf1741.jpg', '1547891286_71729ce800.jpg', '2679830329_24dcc0ab24.jpg', '2651925351_f773ddfb84.jpg', '278434297_d347a3c9a9.jpg', '2211687341_ea01a52ded.jpg', '1420980354_69e290a16d.jpg', '110036443_d3bab28c84.jpg', '2406673801_18a988c180.jpg', '2188158735_4b49501148.jpg', '6441563_5d618aebb5.jpg', '2097332511_b0d4566177.jpg', '512063022_b1467dfc51.jpg', '1854229176_ea94339903.jpg', '99633555_aad23e2548.jpg', '2495832298_24b0fb7199.jpg', '46163213_121ba9d4f5.jpg', '7359740_ab8bd1d00a.jpg', '421857533_bc7f3c4e4b.jpg', '379080409_05dc8d1362.jpg', '1600066214_b7b71e66fe.jpg', '2372194566_9701e4a767.jpg', '2076483801_51a726816e.jpg', '2734889615_586dd31f72.jpg', '293725950_b665a0452a.jpg', '2621697332_7066ded4f9.jpg', '129837498_d327970755.jpg', '6645233_27b17d82f5.jpg', '97239906_c71241eff6.jpg']\n"
          ],
          "name": "stdout"
        }
      ]
    },
    {
      "metadata": {
        "id": "YTPV8uYZNxS9",
        "colab_type": "code",
        "colab": {
          "autoexec": {
            "startup": false,
            "wait_interval": 0
          },
          "base_uri": "https://localhost:8080/",
          "height": 34
        },
        "outputId": "1c7b7790-c8ec-4b4c-eff6-fe652f02c2ea",
        "executionInfo": {
          "status": "ok",
          "timestamp": 1532924686145,
          "user_tz": -540,
          "elapsed": 695,
          "user": {
            "displayName": "8 x 4",
            "photoUrl": "https://lh3.googleusercontent.com/a/default-user=s128",
            "userId": "118197352509166996121"
          }
        }
      },
      "cell_type": "code",
      "source": [
        "# from IPython.display import Image,display_jpeg\n",
        "# display_jpeg(Image('banana/banana.jpg'))"
      ],
      "execution_count": 15,
      "outputs": [
        {
          "output_type": "display_data",
          "data": {
            "image/jpeg": "[encoded data removed]"
          },
          "metadata": {
            "tags": []
          }
        }
      ]
    },
    {
      "metadata": {
        "id": "V9wLGrhHQ2ug",
        "colab_type": "code",
        "colab": {
          "autoexec": {
            "startup": false,
            "wait_interval": 0
          },
          "base_uri": "https://localhost:8080/",
          "height": 53
        },
        "outputId": "2c97bab1-e3b9-430c-b7ed-0159f9c7457a",
        "executionInfo": {
          "status": "ok",
          "timestamp": 1532929640492,
          "user_tz": -540,
          "elapsed": 2913,
          "user": {
            "displayName": "8 x 4",
            "photoUrl": "https://lh3.googleusercontent.com/a/default-user=s128",
            "userId": "118197352509166996121"
          }
        }
      },
      "cell_type": "code",
      "source": [
        "datas = load_image_list(path=\"group_image.txt\")\n",
        "print('sample length:\\t{}'.format(len(datas)))\n",
        "\n",
        "cpu = multiprocessing.cpu_count()\n",
        "print('number of cpu:\\t{}'.format(cpu))"
      ],
      "execution_count": 21,
      "outputs": [
        {
          "output_type": "stream",
          "text": [
            "sample length:\t1087\n",
            "number of cpu:\t2\n"
          ],
          "name": "stdout"
        }
      ]
    },
    {
      "metadata": {
        "id": "77SK3xfbhJt6",
        "colab_type": "code",
        "colab": {
          "autoexec": {
            "startup": false,
            "wait_interval": 0
          }
        }
      },
      "cell_type": "code",
      "source": [
        "num = 100\n",
        "indexes = np.random.permutation(num)\n",
        "filenames = datas[indexes]\n",
        "\n",
        "print(\"シングルプロセス-------------------\")\n",
        "%time [load_image_data(filename) for filename in filenames]\n",
        "pool = Pool(cpu)\n",
        "print(\"マルチプロセス-------------------\")\n",
        "%time pool.map(load_image_data, filenames)\n",
        "pool.close()"
      ],
      "execution_count": 0,
      "outputs": []
    },
    {
      "metadata": {
        "id": "Kb0EnFh9rZDe",
        "colab_type": "text"
      },
      "cell_type": "markdown",
      "source": [
        ""
      ]
    },
    {
      "metadata": {
        "id": "zdfORHAwkbHV",
        "colab_type": "code",
        "colab": {
          "autoexec": {
            "startup": false,
            "wait_interval": 0
          },
          "base_uri": "https://localhost:8080/",
          "height": 35
        },
        "outputId": "469b3f7f-798a-4ded-caab-ee853bcf72c9",
        "executionInfo": {
          "status": "ok",
          "timestamp": 1532876731059,
          "user_tz": -540,
          "elapsed": 1653,
          "user": {
            "displayName": "8 x 4",
            "photoUrl": "https://lh3.googleusercontent.com/a/default-user=s128",
            "userId": "118197352509166996121"
          }
        }
      },
      "cell_type": "code",
      "source": [
        "!ls"
      ],
      "execution_count": 54,
      "outputs": [
        {
          "output_type": "stream",
          "text": [
            "apple  apple_image2.txt  apple_image.txt  datalab\r\n"
          ],
          "name": "stdout"
        }
      ]
    },
    {
      "metadata": {
        "id": "GWgVASyhkqvV",
        "colab_type": "code",
        "colab": {
          "autoexec": {
            "startup": false,
            "wait_interval": 0
          }
        }
      },
      "cell_type": "code",
      "source": [
        ""
      ],
      "execution_count": 0,
      "outputs": []
    }
  ]
}